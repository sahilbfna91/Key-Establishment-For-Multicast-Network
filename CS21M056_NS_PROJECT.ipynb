{
  "nbformat": 4,
  "nbformat_minor": 0,
  "metadata": {
    "colab": {
      "name": "CS21M056_NS_PROJECT.ipynb",
      "provenance": [],
      "collapsed_sections": []
    },
    "kernelspec": {
      "name": "python3",
      "display_name": "Python 3"
    },
    "language_info": {
      "name": "python"
    }
  },
  "cells": [
    {
      "cell_type": "code",
      "source": [
        "import collections\n",
        "import itertools\n",
        "import random\n",
        "import graphviz\n",
        "from sympy import *\n",
        "import random"
      ],
      "metadata": {
        "id": "PYWQMNVUKwVu"
      },
      "execution_count": 10,
      "outputs": []
    },
    {
      "cell_type": "code",
      "source": [
        "def Shortest_Paths_All_Source(Graph):\n",
        "    temp={}\n",
        "\n",
        "    for node in Graph:\n",
        "      temp.update(Shortest_Paths_Single_Source(Graph, node))\n",
        "    return temp\n",
        "def Shortest_Paths_Single_Source(Graph, T):\n",
        "  temp={(T, node): [] for node in Graph}\n",
        "  UnVisited = set(Graph)\n",
        "  queue = collections.deque([T])\n",
        "  while queue:\n",
        "    curr = queue.popleft()\n",
        "    if curr not in UnVisited: continue\n",
        "    for near in Graph[curr]:\n",
        "      if near in UnVisited:\n",
        "        path = temp[(T, curr)]\n",
        "        dist = len(path)\n",
        "        near_dist = len(temp[(T, near)])\n",
        "        if dist+1 < near_dist or near_dist == 0:\n",
        "          temp[(T, near)] = path + [near]\n",
        "          queue.append(near)\n",
        "    UnVisited.remove(curr)\n",
        "  for v in UnVisited:\n",
        "    del temp[(T, v)]\n",
        "  return temp"
      ],
      "metadata": {
        "id": "gch4uh3YlHIE"
      },
      "execution_count": 11,
      "outputs": []
    },
    {
      "cell_type": "code",
      "source": [
        "def Stenier_Base_Case(dij):\n",
        "    b={}\n",
        "    for (v0, v1), p in dij.items():\n",
        "        b[frozenset([v0, v1])] = Path_To_Edges(v0, p)\n",
        "    return b\n",
        "def Path_To_Edges(v, p):\n",
        "    edges =[frozenset([e0,e1]) for e0, e1 in zip([v] + p, p)]\n",
        "    return frozenset(edges)\n",
        "\n",
        "\n",
        "def Make_Steiner(Graph, Multi_Cst_Node):\n",
        "  sample=random.sample(Multi_Cst_Node, 1)[0]\n",
        "  Nodes=Multi_Cst_Node - {sample}\n",
        "  Shrt_Path=Shortest_Paths_All_Source(Graph)\n",
        "  Base_Case=Stenier_Base_Case(Shrt_Path)\n",
        "  temp={}\n",
        "  for nd in range(2,len(Multi_Cst_Node)):\n",
        "      for tple in itertools.combinations(Shrt_Path,nd):\n",
        "          D = frozenset(tple)\n",
        "          for gnodes in Graph:\n",
        "              EF_trees=[]\n",
        "              for first,second in KSubsets(tple,2):\n",
        "                  EF_trees.append((Base_Case[frozenset([gnodes]+first)],Base_Case[frozenset([gnodes]+second)]))\n",
        "              temp[(gnodes, D)]=min(EF_trees, key=lambda x: len(x[0])+len(x[1]))\n",
        "          for nde in {sample} if D == Shrt_Path else Graph:\n",
        "              Length_Tree = []\n",
        "              for gnodes in Graph:\n",
        "                  Length_Tree.append((len(Shrt_Path[(nde,gnodes)])+len(temp[(gnodes,D)][0])+len(temp[(gnodes,D)][1]),gnodes,Path_To_Edges(nde, Shrt_Path[(nde,gnodes)]).union(temp[(gnodes, D)][0]).union(temp[(gnodes, D)][1])))\n",
        "              length, gnodes,tree = min(Length_Tree,key=lambda x:x[0])\n",
        "              Base_Case[frozenset(D.union(frozenset([nde])))]=tree\n",
        "  return Base_Case[frozenset(Multi_Cst_Node)]"
      ],
      "metadata": {
        "id": "LgZUJKser3gq"
      },
      "execution_count": 12,
      "outputs": []
    },
    {
      "cell_type": "code",
      "source": [
        "#Return Particular Style Edges(Terminal/steiner)\n",
        "def Grpah_Edges(Graph):\n",
        "  edges = set()\n",
        "  for node, es in Graph.items():\n",
        "    for e in es:\n",
        "      edges.add(frozenset((node, e)))\n",
        "  return edges\n",
        "\n",
        "#Function to Visualize the Graph\n",
        "def Steiner_Visualize(Graph,terminals,Tedges):\n",
        "  terminal_style = {'color': 'blue'}\n",
        "  steiner_style = {'color': 'red'}\n",
        "  def Steiner_Node(terminals,edges):\n",
        "    nodes=set()\n",
        "    for e0,e1 in  edges:\n",
        "      nodes.add(e0)\n",
        "      nodes.add(e1)\n",
        "    return nodes-set(terminals)\n",
        "  #Return the type of Node\n",
        "  def Node_Style(node,terminals,stnr_nodes):\n",
        "    if node in terminals:\n",
        "      return terminal_style\n",
        "    elif node in stnr_nodes:\n",
        "      return steiner_style\n",
        "    return {}\n",
        "  #Return Edge of steiner style\n",
        "  def Edge_Style(e,tredges):\n",
        "    if e in tredges:\n",
        "      return steiner_style\n",
        "    return {}\n",
        "  #Final Graph Visualization Code\n",
        "  dot = graphviz.Graph()\n",
        "  steiner_nodes = Steiner_Node(terminals, Tedges)\n",
        "  for v, es in Graph.items():\n",
        "    dot.node(v, **Node_Style(v,terminals,steiner_nodes))\n",
        "  for v0, v1 in Grpah_Edges(Graph):\n",
        "    dot.edge(v0, v1, **Edge_Style(frozenset((v0,v1)),Tedges))\n",
        "  dot.render('Final_Graph.gv')"
      ],
      "metadata": {
        "id": "0BXmYz-X5fyy"
      },
      "execution_count": 13,
      "outputs": []
    },
    {
      "cell_type": "code",
      "source": [
        "#Code For K subsets\n",
        "def KSubsets(ns, m):\n",
        "  def visit(n, a):\n",
        "    ps = [[] for i in range(m)]\n",
        "    for j in range(n):\n",
        "      ps[a[j + 1]].append(ns[j])\n",
        "    return ps\n",
        "\n",
        "  def First(X,Y,rate,n,a):\n",
        "    if X == 2:\n",
        "      yield visit(n, a)\n",
        "    else:\n",
        "      for v in First(X- 1, Y-1,(X+rate) %2,n,a):\n",
        "        yield v\n",
        "      if Y == X + 1:\n",
        "        a[X] = X - 1\n",
        "        yield visit(n,a)\n",
        "        while a[Y] > 0:\n",
        "          a[Y] = a[Y] - 1\n",
        "          yield visit(n,a)\n",
        "      elif Y > X + 1:\n",
        "        if (X+rate) % 2==1:\n",
        "          a[Y - 1] = X - 1\n",
        "        else:\n",
        "          a[X] = X - 1\n",
        "          if (a[Y]+rate) % 2 == 1:\n",
        "            for v in Second(X, Y - 1, 0, n, a):\n",
        "              yield v\n",
        "          else:\n",
        "            for v in First(X, Y - 1, 0, n, a):\n",
        "              yield v\n",
        "        while a[Y] > 0:\n",
        "          a[Y] = a[Y] - 1\n",
        "          if (a[Y]+rate) % 2 == 1:\n",
        "            for v in Second(X,Y-1,0,n,a):\n",
        "              yield v\n",
        "          else:\n",
        "            for v in First(X,Y-1,0,n,a):\n",
        "              yield v\n",
        "\n",
        "  def Second(X,Y,rate,n,a):\n",
        "    if Y==X+1:\n",
        "      while a[Y]<X-1:\n",
        "        yield visit(n,a)\n",
        "        a[Y] = a[Y] + 1\n",
        "      yield visit(n, a)\n",
        "      a[X] = 0\n",
        "    elif Y > X + 1:\n",
        "      if (a[Y]+rate) % 2 == 1:\n",
        "        for v in First(X,Y-1,0,n,a):\n",
        "          yield v\n",
        "      else:\n",
        "        for v in Second(X,Y-1,0,n,a):\n",
        "          yield v\n",
        "      while a[Y]<X-1:\n",
        "        a[Y]=a[Y]+1\n",
        "        if (a[Y]+rate)%2== 1:\n",
        "          for v in First(X,Y-1,0,n,a):\n",
        "            yield v\n",
        "        else:\n",
        "          for v in Second(X,Y-1,0,n,a):\n",
        "            yield v\n",
        "      if (X+rate)%2==1:\n",
        "        a[Y - 1]= 0\n",
        "      else:\n",
        "        a[X]=0\n",
        "    if X == 2:\n",
        "      yield visit(n,a)\n",
        "    else:\n",
        "      for v in Second(X-1,Y-1,(X+rate)%2,n,a):\n",
        "        yield v\n",
        "\n",
        "    n=len(ns)\n",
        "    a=[0] * (n + 1)\n",
        "    for j in range(1,m+1):\n",
        "        a[n-m+j]=j-1\n",
        "    return First(m,n,0,n,a)\n"
      ],
      "metadata": {
        "id": "hLRVQmr7ChRh"
      },
      "execution_count": 14,
      "outputs": []
    },
    {
      "cell_type": "code",
      "execution_count": 15,
      "metadata": {
        "colab": {
          "base_uri": "https://localhost:8080/"
        },
        "id": "R2t8v3DDkhPX",
        "outputId": "dc833521-8a21-42cd-b69e-c3dc42596902"
      },
      "outputs": [
        {
          "output_type": "stream",
          "name": "stdout",
          "text": [
            "frozenset({frozenset({'4', '5'}), frozenset({'5', '2'})})\n"
          ]
        }
      ],
      "source": [
        "def Create_Graph():\n",
        "  print(\"Enter the No of vertices in the graph\")\n",
        "  No_Vertices=int(input())\n",
        "  print(\"Enter the No of Total Edges\")\n",
        "  Total_Edges=int(input())\n",
        "  Vertice=[str(i+1) for i in range(No_Vertices)]\n",
        "  Graph={j: [] for j in Vertice}\n",
        "  print('Enter the Edges')\n",
        "  for i in range(1,Total_Edges+1):\n",
        "    v0=(input())\n",
        "    v1=(input())\n",
        "    Graph[v0].append(v1)\n",
        "    Graph[v1].append(v0)\n",
        "  print(Graph)\n",
        "  return Graph\n",
        "\n",
        "def Multicast_Nodes():\n",
        "  print(\"Enter the no of node in multicast network\")\n",
        "  N=int(input())\n",
        "  print(\"Enter all the nodes\")\n",
        "  multi_cst_node=[]\n",
        "  for i in range(N):\n",
        "    node=input()\n",
        "    multi_cst_node.append(node)\n",
        "  print('Enter the Source Node')\n",
        "  src_node=input()\n",
        "  return multi_cst_node\n",
        "#Graph=Create_Graph()\n",
        "Graph={'1': ['4', '3'], '2': ['5'], '3': ['1','4'],'4': ['1','3','5'],'5': ['2','4']}\n",
        "nodes=len(Graph)\n",
        "#multi_cst_node=Multicast_Nodes()\n",
        "multi_cst_node=['4','2']\n",
        "terminals=frozenset(multi_cst_node)\n",
        "tree=Make_Steiner(Graph,terminals)\n",
        "Steiner_Visualize(Graph,terminals,tree)\n",
        "print(tree)"
      ]
    },
    {
      "cell_type": "code",
      "source": [
        "#To Get All the Edges\n",
        "final=[]\n",
        "for Edge in tree:\n",
        "  temp=[]\n",
        "  for i in Edge:\n",
        "    temp.append(i)\n",
        "  final.append(temp)\n",
        "print(final)"
      ],
      "metadata": {
        "id": "N0mfN9PJKvFF",
        "colab": {
          "base_uri": "https://localhost:8080/"
        },
        "outputId": "34b50aca-a9c2-43b1-fd13-1b21f52241b9"
      },
      "execution_count": 16,
      "outputs": [
        {
          "output_type": "stream",
          "name": "stdout",
          "text": [
            "[['4', '5'], ['5', '2']]\n"
          ]
        }
      ]
    },
    {
      "cell_type": "code",
      "source": [
        "#Getting the Adjancey List for Prufere's Code\n",
        "adj=[[] for i in range(nodes+1)]\n",
        "p=[]\n",
        "for temp in final:\n",
        "  adj[int(temp[0])].append(int(temp[1]))\n",
        "  adj[int(temp[1])].append(int(temp[0]))\n",
        "print(adj)\n"
      ],
      "metadata": {
        "id": "SXi89M9gm3dX",
        "colab": {
          "base_uri": "https://localhost:8080/"
        },
        "outputId": "c40062d8-0ece-4b73-e4f0-4c62244f0934"
      },
      "execution_count": 17,
      "outputs": [
        {
          "output_type": "stream",
          "name": "stdout",
          "text": [
            "[[], [], [5], [], [5], [4, 2]]\n"
          ]
        }
      ]
    },
    {
      "cell_type": "code",
      "source": [
        "#Code For Pruferes Algorithm \n",
        "parent=[None]*(nodes+1)\n",
        "Code=[]\n",
        "def RegParent(v):\n",
        "  if(v==nodes):\n",
        "    for i in range(len(adj)):\n",
        "      if(len(adj[i])>1):\n",
        "        for j in range(len(adj[i])):\n",
        "          Code.append(i)\n",
        "    return -1\n",
        "  for i in adj[(v)]:\n",
        "    if(i!=parent[(v)]):\n",
        "      parent[(i)]=v\n",
        "      RegParent(i)\n",
        "\n",
        "\n",
        "def Prufere_Sequence():\n",
        "  parent[nodes]=-1\n",
        "  if(RegParent((nodes))==-1):\n",
        "    return\n",
        "  ptr=-1\n",
        "  degree=[0]*(nodes+1)\n",
        "  for i in range(1,nodes+1):\n",
        "    degree[i]=len(adj[i])\n",
        "    if degree[i]==1 and ptr==-1:\n",
        "      ptr=(i)\n",
        "  code=[None]*(nodes-2)\n",
        "  leaf=ptr\n",
        "  for i in range(nodes-3):\n",
        "    next =parent[(leaf)]\n",
        "    code[i]=next\n",
        "    if (degree[(next)]-1) == 1 and next<ptr:\n",
        "      leaf=next \n",
        "    else:\n",
        "      ptr=((ptr)+1)\n",
        "      while ptr<=nodes and degree[(ptr)]!=1  :\n",
        "        ptr=((ptr)+1)\n",
        "      leaf=ptr\n",
        "Prufere_Sequence()\n",
        "print(\"Pruefere's Code is :\")\n",
        "print(Code)"
      ],
      "metadata": {
        "id": "CLhAiXT2m6EY",
        "colab": {
          "base_uri": "https://localhost:8080/"
        },
        "outputId": "9662a344-6ba1-429e-8a28-16b53d981e3f"
      },
      "execution_count": 20,
      "outputs": [
        {
          "output_type": "stream",
          "name": "stdout",
          "text": [
            "Pruefere's Code is :\n",
            "[5, 5]\n"
          ]
        }
      ]
    },
    {
      "cell_type": "code",
      "source": [
        "\n",
        "def Unique(temp):\n",
        "\tX=[]\n",
        "\tfor i in temp:\n",
        "\t\tif i not in X:\n",
        "\t\t\tX.append(i\n",
        "            )\n",
        "\tif len(X)==len(temp):\n",
        "\t\treturn 1\n",
        "\telse:\n",
        "\t\treturn 0\n",
        "\n",
        "#Group Deffie Hellman for Multicast Node\n",
        "def GDH():\n",
        "  for item in final:  \n",
        "    q=int(input('Enter prime value for q: '))\n",
        "    while isprime(q)==0:\n",
        "      q=int(input(\"Please enter a PRIME NUMBER ONLY for q: \"))\n",
        "    prim = []\n",
        "    for first in range(1,q):\n",
        "      temp1=[]\n",
        "      for second in range(1,q):\n",
        "        temp = (first**second)%q\n",
        "        temp1.append(temp)\n",
        "      if Unique(temp1):\n",
        "        prim.append(first)\n",
        "    print(\"Primitive roots are \"+str(prim))\n",
        "    alpha = random.choice(prim)\n",
        "    print('Selected alpha is : '+ str(alpha))\n",
        "    p = 2\n",
        "    priv = []\n",
        "    for i in range(p):\n",
        "      temp = int(input(\"Enter \"+item[i]+\" nd/th node private key: \"))\n",
        "      while temp >= q:\n",
        "        temp = int(input(\"Enter \"+item[1]+\"nd/th node  private key STRICTLY LESS THAN q: \"))\n",
        "      priv.append(temp)\n",
        "    public=[]\n",
        "    for i in priv:\n",
        "      public.append((alpha**i)%q)\n",
        "    print(\"Public keys are : \"+str(public))\n",
        "    print(\"Key exchange for \"+item[0] +\"nd/th Node... \")\n",
        "    key1=(public[0]**priv[1])%q\n",
        "    print(key1)\n",
        "    print(\"Key exchange for \"+item[1]+\" nd/th Node... \")\n",
        "    key2=(public[1]**priv[0])%q\n",
        "    print(key2)\n",
        "    if key1==key2:\n",
        "      print(\"Key exchanges are same.\")\n",
        "    else:\n",
        "      print(\"Error\")\n",
        "GDH()\n"
      ],
      "metadata": {
        "id": "3FqyVlOkm75g",
        "colab": {
          "base_uri": "https://localhost:8080/"
        },
        "outputId": "a5c45f6f-932a-43e9-8b56-fea853841c69"
      },
      "execution_count": 21,
      "outputs": [
        {
          "output_type": "stream",
          "name": "stdout",
          "text": [
            "Enter prime value for q: 11\n",
            "Primitive roots are [2, 6, 7, 8]\n",
            "Selected alpha is : 8\n",
            "Enter 4 nd/th node private key: 12\n",
            "Enter 5nd/th node  private key STRICTLY LESS THAN q: 5\n",
            "Enter 5 nd/th node private key: 6\n",
            "Public keys are : [10, 3]\n",
            "Key exchange for 4nd/th Node... \n",
            "1\n",
            "Key exchange for 5 nd/th Node... \n",
            "1\n",
            "Key exchanges are same.\n",
            "Enter prime value for q: 8\n",
            "Please enter a PRIME NUMBER ONLY for q: 13\n",
            "Primitive roots are [2, 6, 7, 11]\n",
            "Selected alpha is : 2\n",
            "Enter 5 nd/th node private key: 6\n",
            "Enter 2 nd/th node private key: 4\n",
            "Public keys are : [12, 3]\n",
            "Key exchange for 5nd/th Node... \n",
            "1\n",
            "Key exchange for 2 nd/th Node... \n",
            "1\n",
            "Key exchanges are same.\n"
          ]
        }
      ]
    },
    {
      "cell_type": "code",
      "source": [
        "#Code For BlockChain Induced Node Multiucast Node Connection \n",
        "from hashlib import sha256\n",
        "import json\n",
        "import time\n",
        "\n",
        "#Node Structure\n",
        "class Nodes:\n",
        "  def __init__(self,ID):\n",
        "    Chain=[]\n",
        "    self.Node_Id=ID\n",
        "    self.Secret_Key=self.Node_Hash=sha256(self.Node_Id.encode()).hexdigest()   \n",
        "  def SecKey(self):\n",
        "    return self.Secret_Key\n",
        "  def NodeLink(self,SecretKey,PrevKey,NextKey):\n",
        "    self.PrevHash=sha256((str(SecretKey)+str(PrevKey)).encode()).hexdigest()\n",
        "    self.NextHAsh=sha256((str(SecretKey)+str(NextKey)).encode()).hexdigest()\n",
        "  def PreKey(self):\n",
        "    return self.PrevHash\n",
        "  def nextKey(self):\n",
        "    return self.NextHAsh\n",
        "\n",
        "Temp=set()\n",
        "chain=[]\n",
        "for  X in final:\n",
        "  if(X[0] not in Temp):\n",
        "    node=Nodes(X[0])\n",
        "    Temp.add(X[0])\n",
        "    chain.append(node)\n",
        "  if(X[1] not in Temp):\n",
        "    node=Nodes(X[1])\n",
        "    Temp.add(X[1])\n",
        "    chain.append(node)\n",
        "\n",
        "prevnode='0'\n",
        "n=len(chain)\n",
        "for i in range(0,len(chain)-1):\n",
        "  chain[i].NodeLink(chain[i].SecKey,prevnode,chain[i+1].SecKey)\n",
        "  prevnode=chain[i].SecKey\n",
        "\n",
        "chain[n-1].NodeLink(chain[n-1].SecKey,prevnode,'0')\n",
        "\n",
        "\n",
        "print(\"Chain Length is\")\n",
        "print(len(chain))"
      ],
      "metadata": {
        "id": "bqAp1EbinNT9",
        "colab": {
          "base_uri": "https://localhost:8080/"
        },
        "outputId": "6a143219-8365-41a8-dce8-5ffaf7461502"
      },
      "execution_count": 22,
      "outputs": [
        {
          "output_type": "stream",
          "name": "stdout",
          "text": [
            "Chain Length is\n",
            "3\n"
          ]
        }
      ]
    }
  ]
}